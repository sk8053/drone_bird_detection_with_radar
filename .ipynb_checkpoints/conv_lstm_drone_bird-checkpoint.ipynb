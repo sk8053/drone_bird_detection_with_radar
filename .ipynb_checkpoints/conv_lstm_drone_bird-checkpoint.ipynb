{
 "cells": [
  {
   "cell_type": "code",
   "execution_count": 1,
   "metadata": {
    "executionInfo": {
     "elapsed": 3999,
     "status": "ok",
     "timestamp": 1670339286163,
     "user": {
      "displayName": "Seongjoon Kang",
      "userId": "11489979719672849160"
     },
     "user_tz": 300
    },
    "id": "ACQJnzfv0qrR"
   },
   "outputs": [],
   "source": [
    "import torch \n",
    "import torchvision\n",
    "import torch.nn as nn \n",
    "from IPython.display import Image \n",
    "from torchvision import transforms\n",
    "import matplotlib.pyplot as plt\n",
    "import random\n",
    "from torch.utils.data import Dataset, DataLoader\n",
    "from tqdm.auto import tqdm\n",
    "device = torch.device(\"cuda\" if torch.cuda.is_available() else \"cpu\")\n",
    "seed = 12345\n",
    "random.seed(seed)\n",
    "torch.manual_seed(seed)\n",
    "import numpy as np\n",
    "import pickle\n",
    "from matplotlib.animation import FuncAnimation\n",
    "from IPython.display import HTML"
   ]
  },
  {
   "cell_type": "code",
   "execution_count": 2,
   "metadata": {
    "colab": {
     "base_uri": "https://localhost:8080/"
    },
    "executionInfo": {
     "elapsed": 21349,
     "status": "ok",
     "timestamp": 1670339387719,
     "user": {
      "displayName": "Seongjoon Kang",
      "userId": "11489979719672849160"
     },
     "user_tz": 300
    },
    "id": "lYXjL7Lw0u0b",
    "outputId": "f674afa7-e057-4286-a0f4-02e8f4263aa2"
   },
   "outputs": [
    {
     "name": "stdout",
     "output_type": "stream",
     "text": [
      "cuda\n",
      "Mounted at /content/drive\n"
     ]
    }
   ],
   "source": [
    "print (device)\n",
    "from google.colab import drive\n",
    "drive.mount('/content/drive')"
   ]
  },
  {
   "cell_type": "markdown",
   "metadata": {
    "id": "SDrfYVJQ8kCa"
   },
   "source": [
    "**Detect drone or bird using Convolutional LSTM based on only phase information**"
   ]
  },
  {
   "cell_type": "code",
   "execution_count": null,
   "metadata": {
    "id": "b4S8wJ2UXbZm"
   },
   "outputs": [],
   "source": [
    "import torch.nn as nn\n",
    "import torch\n",
    "\n",
    "# the convolutional lstm code comes from the following link:\n",
    "# https://github.com/ndrplz/ConvLSTM_pytorch/blob/master/convlstm.py\n",
    "class ConvLSTMCell(nn.Module):\n",
    "\n",
    "    def __init__(self, input_dim, hidden_dim, kernel_size, bias):\n",
    "        \"\"\"\n",
    "        Initialize ConvLSTM cell.\n",
    "        Parameters\n",
    "        ----------\n",
    "        input_dim: int\n",
    "            Number of channels of input tensor.\n",
    "        hidden_dim: int\n",
    "            Number of channels of hidden state.\n",
    "        kernel_size: (int, int)\n",
    "            Size of the convolutional kernel.\n",
    "        bias: bool\n",
    "            Whether or not to add the bias.\n",
    "        \"\"\"\n",
    "\n",
    "        super(ConvLSTMCell, self).__init__()\n",
    "\n",
    "        self.input_dim = input_dim\n",
    "        self.hidden_dim = hidden_dim\n",
    "\n",
    "        self.kernel_size = kernel_size\n",
    "        self.padding = kernel_size[0] // 2, kernel_size[1] // 2\n",
    "        self.bias = bias\n",
    "\n",
    "        self.conv = nn.Conv2d(in_channels=self.input_dim + self.hidden_dim,\n",
    "                              out_channels=4 * self.hidden_dim,\n",
    "                              kernel_size=self.kernel_size,\n",
    "                              padding=self.padding,\n",
    "                              bias=self.bias)\n",
    "                             \n",
    "                    \n",
    "        self.actv = nn.PReLU()\n",
    "        self.norm = nn.BatchNorm2d(4 * self.hidden_dim)\n",
    "    def forward(self, input_tensor, cur_state):\n",
    "        h_cur, c_cur = cur_state\n",
    "\n",
    "        combined = torch.cat([input_tensor, h_cur], dim=1)  # concatenate along channel axis\n",
    "\n",
    "        combined_conv = self.norm(self.actv(self.conv(combined)))\n",
    "        cc_i, cc_f, cc_o, cc_g = torch.split(combined_conv, self.hidden_dim, dim=1)\n",
    "        i = torch.sigmoid(cc_i)\n",
    "        f = torch.sigmoid(cc_f)\n",
    "        o = torch.sigmoid(cc_o)\n",
    "        g = torch.tanh(cc_g)\n",
    "        \n",
    "        c_next = f * c_cur + i * g\n",
    "        h_next = o * torch.tanh(c_next)\n",
    "\n",
    "        return h_next, c_next\n",
    "\n",
    "    def init_hidden(self, batch_size, image_size):\n",
    "        height, width = image_size\n",
    "        return (torch.zeros(batch_size, self.hidden_dim, height, width, device=self.conv.weight.device),\n",
    "                torch.zeros(batch_size, self.hidden_dim, height, width, device=self.conv.weight.device))\n",
    "\n",
    "\n",
    "class ConvLSTM(nn.Module):\n",
    "\n",
    "    \"\"\"\n",
    "    Parameters:\n",
    "        input_dim: Number of channels in input\n",
    "        hidden_dim: Number of hidden channels\n",
    "        kernel_size: Size of kernel in convolutions\n",
    "        num_layers: Number of LSTM layers stacked on each other\n",
    "        batch_first: Whether or not dimension 0 is the batch or not\n",
    "        bias: Bias or no bias in Convolution\n",
    "        return_all_layers: Return the list of computations for all layers\n",
    "        Note: Will do same padding.\n",
    "    Input:\n",
    "        A tensor of size B, T, C, H, W or T, B, C, H, W\n",
    "    Output:\n",
    "        A tuple of two lists of length num_layers (or length 1 if return_all_layers is False).\n",
    "            0 - layer_output_list is the list of lists of length T of each output\n",
    "            1 - last_state_list is the list of last states\n",
    "                    each element of the list is a tuple (h, c) for hidden state and memory\n",
    "    Example:\n",
    "        >> x = torch.rand((32, 10, 64, 128, 128))\n",
    "        >> convlstm = ConvLSTM(64, 16, 3, 1, True, True, False)\n",
    "        >> _, last_states = convlstm(x)\n",
    "        >> h = last_states[0][0]  # 0 for layer index, 0 for h index\n",
    "    \"\"\"\n",
    "\n",
    "    def __init__(self, input_dim, hidden_dim, kernel_size, num_layers,\n",
    "                 batch_first=False, bias=True, return_all_layers=False):\n",
    "        super(ConvLSTM, self).__init__()\n",
    "\n",
    "        self._check_kernel_size_consistency(kernel_size)\n",
    "\n",
    "        # Make sure that both `kernel_size` and `hidden_dim` are lists having len == num_layers\n",
    "        kernel_size = self._extend_for_multilayer(kernel_size, num_layers)\n",
    "        hidden_dim = self._extend_for_multilayer(hidden_dim, num_layers)\n",
    "        if not len(kernel_size) == len(hidden_dim) == num_layers:\n",
    "            raise ValueError('Inconsistent list length.')\n",
    "\n",
    "        self.input_dim = input_dim\n",
    "        self.hidden_dim = hidden_dim\n",
    "        self.kernel_size = kernel_size\n",
    "        self.num_layers = num_layers\n",
    "        self.batch_first = batch_first\n",
    "        self.bias = bias\n",
    "        self.return_all_layers = return_all_layers\n",
    "\n",
    "        cell_list = []\n",
    "        for i in range(0, self.num_layers):\n",
    "            cur_input_dim = self.input_dim if i == 0 else self.hidden_dim[i - 1]\n",
    "\n",
    "            cell_list.append(ConvLSTMCell(input_dim=cur_input_dim,\n",
    "                                          hidden_dim=self.hidden_dim[i],\n",
    "                                          kernel_size=self.kernel_size[i],\n",
    "                                          bias=self.bias))\n",
    "\n",
    "        self.cell_list = nn.ModuleList(cell_list)\n",
    "        self.linear_fc = nn.Sequential(\n",
    "            nn.Flatten(), \n",
    "            nn.Linear(hidden_dim[0] * 20*30, 100),    \n",
    "            nn.PReLU(),\n",
    "            nn.Linear(100, 2),     \n",
    "        )\n",
    "    def forward(self, input_tensor, hidden_state=None):\n",
    "        \"\"\"\n",
    "        Parameters\n",
    "        ----------\n",
    "        input_tensor: todo\n",
    "            5-D Tensor either of shape (t, b, c, h, w) or (b, t, c, h, w)\n",
    "        hidden_state: todo\n",
    "            None. todo implement stateful\n",
    "        Returns\n",
    "        -------\n",
    "        last_state_list, layer_output\n",
    "        \"\"\"\n",
    "        if not self.batch_first:\n",
    "            # (t, b, c, h, w) -> (b, t, c, h, w)\n",
    "            input_tensor = input_tensor.permute(1, 0, 2, 3, 4)\n",
    "\n",
    "        b, _, _, h, w = input_tensor.size()\n",
    "\n",
    "        # Implement stateful ConvLSTM\n",
    "        if hidden_state is not None:\n",
    "            raise NotImplementedError()\n",
    "        else:\n",
    "            # Since the init is done in forward. Can send image size here\n",
    "            hidden_state = self._init_hidden(batch_size=b,\n",
    "                                             image_size=(h, w))\n",
    "\n",
    "        layer_output_list = []\n",
    "        last_state_list = []\n",
    "\n",
    "        seq_len = input_tensor.size(1)\n",
    "        cur_layer_input = input_tensor\n",
    "\n",
    "        for layer_idx in range(self.num_layers):\n",
    "\n",
    "            h, c = hidden_state[layer_idx]\n",
    "            output_inner = []\n",
    "            for t in range(seq_len):\n",
    "                h, c = self.cell_list[layer_idx](input_tensor=cur_layer_input[:, t, :, :, :],\n",
    "                                                 cur_state=[h, c])\n",
    "                output_inner.append(h)\n",
    "\n",
    "            layer_output = torch.stack(output_inner, dim=1)\n",
    "            cur_layer_input = layer_output\n",
    "\n",
    "            layer_output_list.append(layer_output)\n",
    "            last_state_list.append([h, c])\n",
    "\n",
    "        if not self.return_all_layers:\n",
    "            layer_output_list = layer_output_list[-1:]\n",
    "            \n",
    "            last_state_list = last_state_list[-1]\n",
    "            last_h = last_state_list[0]\n",
    "            classifier = self.linear_fc(last_h)\n",
    "\n",
    "        return layer_output_list, last_state_list, classifier\n",
    "\n",
    "    def _init_hidden(self, batch_size, image_size):\n",
    "        init_states = []\n",
    "        for i in range(self.num_layers):\n",
    "            init_states.append(self.cell_list[i].init_hidden(batch_size, image_size))\n",
    "        return init_states\n",
    "\n",
    "    @staticmethod\n",
    "    def _check_kernel_size_consistency(kernel_size):\n",
    "        if not (isinstance(kernel_size, tuple) or\n",
    "                (isinstance(kernel_size, list) and all([isinstance(elem, tuple) for elem in kernel_size]))):\n",
    "            raise ValueError('`kernel_size` must be tuple or list of tuples')\n",
    "\n",
    "    @staticmethod\n",
    "    def _extend_for_multilayer(param, num_layers):\n",
    "        if not isinstance(param, list):\n",
    "            param = [param] * num_layers\n",
    "        return param"
   ]
  },
  {
   "cell_type": "code",
   "execution_count": null,
   "metadata": {
    "colab": {
     "base_uri": "https://localhost:8080/"
    },
    "executionInfo": {
     "elapsed": 15445,
     "status": "ok",
     "timestamp": 1670209635554,
     "user": {
      "displayName": "Seongjoon Kang",
      "userId": "11489979719672849160"
     },
     "user_tz": 300
    },
    "id": "ccZGscn00z1X",
    "outputId": "6fd11f09-18cb-47c5-f7b1-e8bc3cbc58fc"
   },
   "outputs": [
    {
     "name": "stdout",
     "output_type": "stream",
     "text": [
      "(38000, 1, 20, 30) (46000, 1, 20, 30)\n"
     ]
    }
   ],
   "source": [
    "#path = '/content/drive/MyDrive/radar'\n",
    "path = 'drive/MyDrive/________60GHz_radar_measurements_SHARED/2021-05-19_Drone_vs_bird_detection_indoor/Radar_measurements_60GHz_Mavic+P3P+bird/bird_drone_classification_work/' #JDVG\n",
    "with open(path +'/'+'bird_data_total.pkl', 'rb') as f:\n",
    "  bird_data_total_init = pickle.load(f)[:,None]\n",
    "with open(path +'/'+'mavik_data_total.pkl', 'rb') as f:\n",
    "  mavik_data_total_init = pickle.load(f)[:,None]\n",
    "\n",
    "print (bird_data_total_init.shape, mavik_data_total_init.shape)\n",
    "\n",
    "# take angle information for bird and drone\n",
    "bird_data_total = np.angle(bird_data_total_init)\n",
    "mavik_data_total = np.angle(mavik_data_total_init)\n",
    "\n",
    "\n",
    "# set the range of data as <1\n",
    "mavik_data_total /= np.max(mavik_data_total)\n",
    "bird_data_total /= np.max(bird_data_total)\n",
    "# create the labels of mavik (1) and bird (0)\n",
    "mavik_lavel = np.repeat([1], len(mavik_data_total))\n",
    "bird_label = np.repeat([0], len(bird_data_total))\n",
    "\n",
    "total_data = np.vstack((bird_data_total, mavik_data_total))\n",
    "total_label = np.append(bird_label, mavik_lavel)"
   ]
  },
  {
   "cell_type": "code",
   "execution_count": null,
   "metadata": {
    "colab": {
     "base_uri": "https://localhost:8080/",
     "height": 182
    },
    "executionInfo": {
     "elapsed": 452,
     "status": "ok",
     "timestamp": 1670209638235,
     "user": {
      "displayName": "Seongjoon Kang",
      "userId": "11489979719672849160"
     },
     "user_tz": 300
    },
    "id": "gVbv_3fo3lGT",
    "outputId": "4312b2da-098f-4438-e636-bf58819d6b93"
   },
   "outputs": [
    {
     "data": {
      "text/plain": [
       "Text(0.5, 1.0, 'phases from drone')"
      ]
     },
     "execution_count": 5,
     "metadata": {},
     "output_type": "execute_result"
    },
    {
     "data": {
      "image/png": "[encoded data removed]",
      "text/plain": [
       "<Figure size 432x288 with 2 Axes>"
      ]
     },
     "metadata": {
      "needs_background": "light"
     },
     "output_type": "display_data"
    }
   ],
   "source": [
    "fig, (ax1, ax2) = plt.subplots(1,2)\n",
    "ax1.imshow(np.squeeze(bird_data_total[1]))\n",
    "ax1.set_title('phases from bird')\n",
    "ax2.imshow(np.squeeze(mavik_data_total[2]))\n",
    "ax2.set_title('phases from drone')"
   ]
  },
  {
   "cell_type": "code",
   "execution_count": null,
   "metadata": {
    "id": "1nnhMAnVNr0z"
   },
   "outputs": [],
   "source": [
    "class MyDataSet(Dataset):\n",
    "  def __init__(self, image, target):\n",
    "    self.image = image\n",
    "    self.target = target\n",
    "  def __len__(self):\n",
    "    return len(self.target)\n",
    "  def __getitem__(self, idx):\n",
    "    return self.image[idx], self.target[idx]"
   ]
  },
  {
   "cell_type": "code",
   "execution_count": null,
   "metadata": {
    "colab": {
     "base_uri": "https://localhost:8080/"
    },
    "executionInfo": {
     "elapsed": 641,
     "status": "ok",
     "timestamp": 1670209652325,
     "user": {
      "displayName": "Seongjoon Kang",
      "userId": "11489979719672849160"
     },
     "user_tz": 300
    },
    "id": "QfSBSFugNVDS",
    "outputId": "1109072b-1080-4a06-dd74-981fade2ad2c"
   },
   "outputs": [
    {
     "name": "stdout",
     "output_type": "stream",
     "text": [
      "(16800, 5, 1, 20, 30)\n",
      "shape is number of frame, time, channels, height and width\n",
      "train size:  torch.Size([13440, 5, 1, 20, 30]) (13440,)\n",
      "test size:  torch.Size([3360, 5, 1, 20, 30]) (3360,)\n"
     ]
    }
   ],
   "source": [
    "time_bin_size = 5 # the size of time bin\n",
    "# total data\n",
    "total_data = np.append(bird_data_total, mavik_data_total, axis = 0)\n",
    "total_data = total_data.reshape(-1, time_bin_size, 20, 30)\n",
    "\n",
    "# add the dimension of channel\n",
    "total_data = total_data[:,:,None]\n",
    "I = np.random.permutation(len(total_data))\n",
    "total_data = total_data[I]\n",
    "\n",
    "print(total_data.shape)\n",
    "# take labels indicating bird or drone\n",
    "total_label = total_label.reshape(-1, time_bin_size)[:,0]\n",
    "total_label = total_label[I]\n",
    "\n",
    "total_data = torch.tensor(total_data, dtype=torch.float32)\n",
    "batch_size = 32\n",
    "train_size = int(0.8*len(total_data))\n",
    "\n",
    "train_data_set = MyDataSet(image = total_data[:train_size], target= total_label[:train_size])\n",
    "test_data_set = MyDataSet(image = total_data[train_size:], target= total_label[train_size:])\n",
    "\n",
    "train_data_loader = DataLoader(train_data_set, batch_size=batch_size, shuffle=True, drop_last=True )\n",
    "test_data_loader = DataLoader(test_data_set, batch_size=batch_size, shuffle=True, drop_last=True )\n",
    "\n",
    "print('shape is number of frame, time, channels, height and width')\n",
    "print('train size: ', train_data_set.image.shape, train_data_set.target.shape)\n",
    "print('test size: ', test_data_set.image.shape, test_data_set.target.shape)\n"
   ]
  },
  {
   "cell_type": "code",
   "execution_count": null,
   "metadata": {
    "id": "GnmWg9P9N5U_"
   },
   "outputs": [],
   "source": [
    "max_patience = 10\n",
    "patience_counter =0\n",
    "def train_loop(model, criterion, optimizer,  train_loader, val_loader, n_epoch=50):\n",
    "    \"\"\"\n",
    "    Generic training loop\n",
    "\n",
    "    Parameters\n",
    "    ----------\n",
    "    model : Object instance of your model class \n",
    "    criterion : Loss function \n",
    "    optimizer : Instance of optimizer class of your choice \n",
    "    train_loader : Training data loader \n",
    "    val_loader : Validation data loader\n",
    "\n",
    "    Returns\n",
    "    -------\n",
    "    train_losses : List with train loss on dataset per epoch\n",
    "    train_accuracies : List with train accuracy on dataset per epoch\n",
    "    val_losses : List with validation loss on dataset per epoch\n",
    "    val_accuracies : List with validation accuracy on dataset per epoch\n",
    "\n",
    "    \"\"\"\n",
    "    best_val = 0.0\n",
    "    train_losses = []\n",
    "    val_losses = []\n",
    "    train_accuracies = []\n",
    "    val_accuracies = []\n",
    "    patience_counter = 0\n",
    "    # Training\n",
    "    for t in tqdm(range(n_epoch)):\n",
    "      epoch_t_acc = 0.0 \n",
    "      epoch_t_loss = 0.0\n",
    "      # Set the model to train mode\n",
    "      #model.to(device)       \n",
    "      model.train()\n",
    "      # Loop over the training set\n",
    "      for train_data, targets in train_loader:\n",
    "        # Put the inputs and targets on the write device\n",
    "        train_data = train_data.to(device)\n",
    "        targets = targets.to (device)\n",
    "        # Feed forward to get the logits\n",
    "       \n",
    "        _,_, y_pred = model.forward(train_data)\n",
    "        #y_pred = y_pred[:,0]\n",
    "       \n",
    "        score, predicted = torch.max(y_pred, 1)\n",
    "        \n",
    "        # Compute the loss and accuracy\n",
    "        loss = criterion ( y_pred,targets)\n",
    "        \n",
    "        # zero the gradients before running\n",
    "        # the backward pass.\n",
    "        optimizer.zero_grad()\n",
    "        # Backward pass to compute the gradient\n",
    "        # of loss w.r.t our learnable params. \n",
    "        loss.backward()\n",
    "        optimizer.step()\n",
    "  \n",
    "        train_accuracy = (targets == predicted).sum().float() / len(targets)\n",
    "\n",
    "        epoch_t_acc += train_accuracy\n",
    "        epoch_t_loss += loss.item()\n",
    "\n",
    "      train_losses.append(epoch_t_loss/len(train_loader))\n",
    "      train_accuracies.append(epoch_t_acc/len(train_loader))\n",
    "\n",
    "        # Switch the model to eval mode\n",
    "      model.eval()\n",
    "\n",
    "      v_acc = 0\n",
    "      v_loss = 0  \n",
    "      with torch.no_grad():\n",
    "          # TLoop over the validation set \n",
    "          for val_data, targets in val_loader:\n",
    "              # Put the inputs and targets on the write device\n",
    "              val_data = val_data.to(device)\n",
    "              targets = targets.to(device)\n",
    "              # Feed forward to get the logits\n",
    "              _, _, y_pred_val = model (val_data)\n",
    "              score, predicted = torch.max(y_pred_val, 1)\n",
    "              # Compute the loss and accuracy\n",
    "              loss_val = criterion ( y_pred_val,targets)\n",
    "              accuracy_val = (targets == predicted).sum().float() / len(targets)\n",
    "              # Keep track of accuracy and loss\n",
    "              v_acc += accuracy_val\n",
    "              v_loss += loss_val\n",
    "\n",
    "      val_losses.append(v_loss/len(val_loader))\n",
    "      val_accuracies.append(v_acc/len(val_loader))\n",
    "\n",
    "      if val_accuracies[-1] > best_val:\n",
    "        best_val = val_accuracies[-1]\n",
    "        patience_counter = 0\n",
    "\n",
    "        # Save best model, optimizer, epoch_number\n",
    "        torch.save({\n",
    "                    'model': model.state_dict(),\n",
    "                    'optimizer': optimizer.state_dict(),\n",
    "                    'epoch': t,\n",
    "                }, '/content/drive/My Drive/Colab Notebooks/checkpoint_lstm.pth')\n",
    "      else:\n",
    "        patience_counter += 1    \n",
    "        if patience_counter > max_patience: \n",
    "          break\n",
    "      print(\"[EPOCH]: %i, [TRAIN LOSS]: %.6f, [TRAIN ACCURACY]: %.3f\" % (t, train_losses[-1], train_accuracies[-1]))\n",
    "      print(\"[EPOCH]: %i, [VAL LOSS]: %.6f, [VAL ACCURACY]: %.3f \\n\" % (t, val_losses[-1] ,val_accuracies[-1]))\n",
    "\n",
    "    return train_losses, train_accuracies, val_losses, val_accuracies"
   ]
  },
  {
   "cell_type": "code",
   "execution_count": null,
   "metadata": {
    "colab": {
     "base_uri": "https://localhost:8080/"
    },
    "executionInfo": {
     "elapsed": 5813,
     "status": "ok",
     "timestamp": 1670209664746,
     "user": {
      "displayName": "Seongjoon Kang",
      "userId": "11489979719672849160"
     },
     "user_tz": 300
    },
    "id": "m82uRdRfGibz",
    "outputId": "7cf81047-c3a7-4b02-c29b-ad96f7d98fb6"
   },
   "outputs": [
    {
     "data": {
      "text/plain": [
       "ConvLSTM(\n",
       "  (cell_list): ModuleList(\n",
       "    (0): ConvLSTMCell(\n",
       "      (conv): Conv2d(6, 20, kernel_size=(3, 3), stride=(1, 1), padding=(1, 1))\n",
       "      (actv): PReLU(num_parameters=1)\n",
       "      (norm): BatchNorm2d(20, eps=1e-05, momentum=0.1, affine=True, track_running_stats=True)\n",
       "    )\n",
       "    (1): ConvLSTMCell(\n",
       "      (conv): Conv2d(10, 20, kernel_size=(3, 3), stride=(1, 1), padding=(1, 1))\n",
       "      (actv): PReLU(num_parameters=1)\n",
       "      (norm): BatchNorm2d(20, eps=1e-05, momentum=0.1, affine=True, track_running_stats=True)\n",
       "    )\n",
       "    (2): ConvLSTMCell(\n",
       "      (conv): Conv2d(10, 20, kernel_size=(3, 3), stride=(1, 1), padding=(1, 1))\n",
       "      (actv): PReLU(num_parameters=1)\n",
       "      (norm): BatchNorm2d(20, eps=1e-05, momentum=0.1, affine=True, track_running_stats=True)\n",
       "    )\n",
       "    (3): ConvLSTMCell(\n",
       "      (conv): Conv2d(10, 20, kernel_size=(3, 3), stride=(1, 1), padding=(1, 1))\n",
       "      (actv): PReLU(num_parameters=1)\n",
       "      (norm): BatchNorm2d(20, eps=1e-05, momentum=0.1, affine=True, track_running_stats=True)\n",
       "    )\n",
       "    (4): ConvLSTMCell(\n",
       "      (conv): Conv2d(10, 20, kernel_size=(3, 3), stride=(1, 1), padding=(1, 1))\n",
       "      (actv): PReLU(num_parameters=1)\n",
       "      (norm): BatchNorm2d(20, eps=1e-05, momentum=0.1, affine=True, track_running_stats=True)\n",
       "    )\n",
       "  )\n",
       "  (linear_fc): Sequential(\n",
       "    (0): Flatten(start_dim=1, end_dim=-1)\n",
       "    (1): Linear(in_features=3000, out_features=100, bias=True)\n",
       "    (2): PReLU(num_parameters=1)\n",
       "    (3): Linear(in_features=100, out_features=2, bias=True)\n",
       "  )\n",
       ")"
      ]
     },
     "execution_count": 9,
     "metadata": {},
     "output_type": "execute_result"
    }
   ],
   "source": [
    "# TODO : Initialize the model and cast to correct device\n",
    "conv_lstm = ConvLSTM(input_dim=1, hidden_dim=5, kernel_size=(3,3), num_layers=5,\n",
    "                 batch_first=True, bias=True, return_all_layers=False)\n",
    "\n",
    "model = conv_lstm\n",
    "model.to (device)"
   ]
  },
  {
   "cell_type": "code",
   "execution_count": null,
   "metadata": {
    "colab": {
     "base_uri": "https://localhost:8080/",
     "height": 587,
     "referenced_widgets": [
      "998cbeae5b7e4d60a8def7dea2a41674",
      "f2e8171607fc4c109c0e19a47a03abcf",
      "473b28a5d84e4a4894b415a87fa3fd16",
      "996d447862374cdc9d6d3d8eeeb1edd0",
      "4dc28a2467184d2b8ad02a8b401e0897",
      "e28c8efb9cad484e8c8eb6e3427af80a",
      "8fb04b2cc21a45b2a6d642eebe3db2b3",
      "b7f2f7fe129b4a449a791d5f77ec35a8",
      "dd0ab5f75c584973b9208078342e7839",
      "e1c7204128e54eb1b18658b37237cd85",
      "2220d6de891a423d9b7bc47276df6329"
     ]
    },
    "executionInfo": {
     "elapsed": 146128,
     "status": "ok",
     "timestamp": 1670209813018,
     "user": {
      "displayName": "Seongjoon Kang",
      "userId": "11489979719672849160"
     },
     "user_tz": 300
    },
    "id": "bOPvmwJRAIMX",
    "outputId": "598ac35c-6d5b-4669-e4fa-d52d52acf590"
   },
   "outputs": [
    {
     "name": "stdout",
     "output_type": "stream",
     "text": [
      "Num params:  308888\n"
     ]
    },
    {
     "data": {
      "application/vnd.jupyter.widget-view+json": {
       "model_id": "998cbeae5b7e4d60a8def7dea2a41674",
       "version_major": 2,
       "version_minor": 0
      },
      "text/plain": [
       "  0%|          | 0/10 [00:00<?, ?it/s]"
      ]
     },
     "metadata": {},
     "output_type": "display_data"
    },
    {
     "name": "stdout",
     "output_type": "stream",
     "text": [
      "[EPOCH]: 0, [TRAIN LOSS]: 0.184705, [TRAIN ACCURACY]: 0.972\n",
      "[EPOCH]: 0, [VAL LOSS]: 0.063825, [VAL ACCURACY]: 0.990 \n",
      "\n",
      "[EPOCH]: 1, [TRAIN LOSS]: 0.007958, [TRAIN ACCURACY]: 1.000\n",
      "[EPOCH]: 1, [VAL LOSS]: 0.033523, [VAL ACCURACY]: 0.992 \n",
      "\n",
      "[EPOCH]: 2, [TRAIN LOSS]: 0.002381, [TRAIN ACCURACY]: 1.000\n",
      "[EPOCH]: 2, [VAL LOSS]: 0.027447, [VAL ACCURACY]: 0.992 \n",
      "\n",
      "[EPOCH]: 3, [TRAIN LOSS]: 0.001098, [TRAIN ACCURACY]: 1.000\n",
      "[EPOCH]: 3, [VAL LOSS]: 0.023327, [VAL ACCURACY]: 0.993 \n",
      "\n",
      "[EPOCH]: 4, [TRAIN LOSS]: 0.000606, [TRAIN ACCURACY]: 1.000\n",
      "[EPOCH]: 4, [VAL LOSS]: 0.021951, [VAL ACCURACY]: 0.992 \n",
      "\n",
      "[EPOCH]: 5, [TRAIN LOSS]: 0.000373, [TRAIN ACCURACY]: 1.000\n",
      "[EPOCH]: 5, [VAL LOSS]: 0.018979, [VAL ACCURACY]: 0.993 \n",
      "\n",
      "[EPOCH]: 6, [TRAIN LOSS]: 0.000246, [TRAIN ACCURACY]: 1.000\n",
      "[EPOCH]: 6, [VAL LOSS]: 0.018083, [VAL ACCURACY]: 0.993 \n",
      "\n",
      "[EPOCH]: 7, [TRAIN LOSS]: 0.000168, [TRAIN ACCURACY]: 1.000\n",
      "[EPOCH]: 7, [VAL LOSS]: 0.015773, [VAL ACCURACY]: 0.995 \n",
      "\n",
      "[EPOCH]: 8, [TRAIN LOSS]: 0.000120, [TRAIN ACCURACY]: 1.000\n",
      "[EPOCH]: 8, [VAL LOSS]: 0.014700, [VAL ACCURACY]: 0.996 \n",
      "\n",
      "[EPOCH]: 9, [TRAIN LOSS]: 0.000087, [TRAIN ACCURACY]: 1.000\n",
      "[EPOCH]: 9, [VAL LOSS]: 0.017312, [VAL ACCURACY]: 0.992 \n",
      "\n"
     ]
    }
   ],
   "source": [
    "print(\"Num params: \", sum(p.numel() for p in model.parameters()))\n",
    "# Initialize the criterion\n",
    "criterion = torch.nn.CrossEntropyLoss()\n",
    "\n",
    "optimizer = torch.optim.Adam(model.parameters(), lr=5e-5)\n",
    "# Run the training loop using this model\n",
    "train_losses, train_accuracies, val_losses, val_acc = train_loop(model, criterion, optimizer,  train_data_loader, test_data_loader,10)"
   ]
  },
  {
   "cell_type": "code",
   "execution_count": null,
   "metadata": {
    "id": "zCIXdTKE5UKb"
   },
   "outputs": [],
   "source": [
    "def get_numpy(arrs):\n",
    "  arr_n =[]\n",
    "  for arr in arrs:\n",
    "    arr_n.append(arr.cpu().numpy())"
   ]
  },
  {
   "cell_type": "code",
   "execution_count": null,
   "metadata": {
    "colab": {
     "base_uri": "https://localhost:8080/",
     "height": 483
    },
    "executionInfo": {
     "elapsed": 405,
     "status": "error",
     "timestamp": 1669140746626,
     "user": {
      "displayName": "Seongjoon Kang",
      "userId": "11489979719672849160"
     },
     "user_tz": 300
    },
    "id": "6plUu4h64z1A",
    "outputId": "40712dc5-593d-46e8-a6f1-46b68389e4bb"
   },
   "outputs": [
    {
     "ename": "TypeError",
     "evalue": "ignored",
     "output_type": "error",
     "traceback": [
      "\u001b[0;31m---------------------------------------------------------------------------\u001b[0m",
      "\u001b[0;31mTypeError\u001b[0m                                 Traceback (most recent call last)",
      "\u001b[0;32m<ipython-input-13-5f5d00d87059>\u001b[0m in \u001b[0;36m<module>\u001b[0;34m\u001b[0m\n\u001b[1;32m      1\u001b[0m \u001b[0mval_losses_n\u001b[0m \u001b[0;34m=\u001b[0m \u001b[0mget_numpy\u001b[0m\u001b[0;34m(\u001b[0m\u001b[0mval_losses\u001b[0m\u001b[0;34m)\u001b[0m\u001b[0;34m\u001b[0m\u001b[0;34m\u001b[0m\u001b[0m\n\u001b[1;32m      2\u001b[0m \u001b[0mplt\u001b[0m\u001b[0;34m.\u001b[0m\u001b[0mplot\u001b[0m\u001b[0;34m(\u001b[0m\u001b[0mnp\u001b[0m\u001b[0;34m.\u001b[0m\u001b[0marange\u001b[0m\u001b[0;34m(\u001b[0m\u001b[0mlen\u001b[0m\u001b[0;34m(\u001b[0m\u001b[0mtrain_losses\u001b[0m\u001b[0;34m)\u001b[0m\u001b[0;34m)\u001b[0m\u001b[0;34m,\u001b[0m \u001b[0mtrain_losses\u001b[0m\u001b[0;34m,\u001b[0m \u001b[0mlabel\u001b[0m \u001b[0;34m=\u001b[0m \u001b[0;34m'train loss'\u001b[0m\u001b[0;34m,\u001b[0m \u001b[0mcolor\u001b[0m \u001b[0;34m=\u001b[0m \u001b[0;34m'r'\u001b[0m\u001b[0;34m)\u001b[0m\u001b[0;34m\u001b[0m\u001b[0;34m\u001b[0m\u001b[0m\n\u001b[0;32m----> 3\u001b[0;31m \u001b[0mplt\u001b[0m\u001b[0;34m.\u001b[0m\u001b[0mplot\u001b[0m\u001b[0;34m(\u001b[0m\u001b[0mnp\u001b[0m\u001b[0;34m.\u001b[0m\u001b[0marange\u001b[0m\u001b[0;34m(\u001b[0m\u001b[0mlen\u001b[0m\u001b[0;34m(\u001b[0m\u001b[0mval_losses_n\u001b[0m\u001b[0;34m)\u001b[0m\u001b[0;34m)\u001b[0m\u001b[0;34m,\u001b[0m \u001b[0mval_losses_n\u001b[0m\u001b[0;34m,\u001b[0m \u001b[0mlabel\u001b[0m \u001b[0;34m=\u001b[0m \u001b[0;34m'validation loss'\u001b[0m\u001b[0;34m,\u001b[0m \u001b[0mcolor\u001b[0m \u001b[0;34m=\u001b[0m \u001b[0;34m'k'\u001b[0m\u001b[0;34m)\u001b[0m\u001b[0;34m\u001b[0m\u001b[0;34m\u001b[0m\u001b[0m\n\u001b[0m\u001b[1;32m      4\u001b[0m \u001b[0mplt\u001b[0m\u001b[0;34m.\u001b[0m\u001b[0mxlabel\u001b[0m \u001b[0;34m(\u001b[0m\u001b[0;34m'epoch'\u001b[0m\u001b[0;34m)\u001b[0m\u001b[0;34m\u001b[0m\u001b[0;34m\u001b[0m\u001b[0m\n\u001b[1;32m      5\u001b[0m \u001b[0mplt\u001b[0m\u001b[0;34m.\u001b[0m\u001b[0mylabel\u001b[0m \u001b[0;34m(\u001b[0m\u001b[0;34m'loss'\u001b[0m\u001b[0;34m)\u001b[0m\u001b[0;34m\u001b[0m\u001b[0;34m\u001b[0m\u001b[0m\n",
      "\u001b[0;31mTypeError\u001b[0m: object of type 'NoneType' has no len()"
     ]
    },
    {
     "data": {
      "image/png": "[encoded data removed]",
      "text/plain": [
       "<Figure size 432x288 with 1 Axes>"
      ]
     },
     "metadata": {
      "needs_background": "light"
     },
     "output_type": "display_data"
    }
   ],
   "source": [
    "val_losses_n = get_numpy(val_losses)\n",
    "plt.plot(np.arange(len(train_losses)), train_losses, label = 'train loss', color = 'r')\n",
    "plt.plot(np.arange(len(val_losses_n)), val_losses_n, label = 'validation loss', color = 'k')\n",
    "plt.xlabel ('epoch')\n",
    "plt.ylabel ('loss')\n",
    "plt.title ('loss')\n",
    "plt.legend()"
   ]
  }
 ],
 "metadata": {
  "accelerator": "GPU",
  "colab": {
   "provenance": []
  },
  "gpuClass": "standard",
  "kernelspec": {
   "display_name": "Python 3 (ipykernel)",
   "language": "python",
   "name": "python3"
  },
  "language_info": {
   "codemirror_mode": {
    "name": "ipython",
    "version": 3
   },
   "file_extension": ".py",
   "mimetype": "text/x-python",
   "name": "python",
   "nbconvert_exporter": "python",
   "pygments_lexer": "ipython3",
   "version": "3.9.7"
  },
  "widgets": {
   "application/vnd.jupyter.widget-state+json": {
    "2220d6de891a423d9b7bc47276df6329": {
     "model_module": "@jupyter-widgets/controls",
     "model_module_version": "1.5.0",
     "model_name": "DescriptionStyleModel",
     "state": {
      "_model_module": "@jupyter-widgets/controls",
      "_model_module_version": "1.5.0",
      "_model_name": "DescriptionStyleModel",
      "_view_count": null,
      "_view_module": "@jupyter-widgets/base",
      "_view_module_version": "1.2.0",
      "_view_name": "StyleView",
      "description_width": ""
     }
    },
    "473b28a5d84e4a4894b415a87fa3fd16": {
     "model_module": "@jupyter-widgets/controls",
     "model_module_version": "1.5.0",
     "model_name": "FloatProgressModel",
     "state": {
      "_dom_classes": [],
      "_model_module": "@jupyter-widgets/controls",
      "_model_module_version": "1.5.0",
      "_model_name": "FloatProgressModel",
      "_view_count": null,
      "_view_module": "@jupyter-widgets/controls",
      "_view_module_version": "1.5.0",
      "_view_name": "ProgressView",
      "bar_style": "success",
      "description": "",
      "description_tooltip": null,
      "layout": "IPY_MODEL_b7f2f7fe129b4a449a791d5f77ec35a8",
      "max": 10,
      "min": 0,
      "orientation": "horizontal",
      "style": "IPY_MODEL_dd0ab5f75c584973b9208078342e7839",
      "value": 10
     }
    },
    "4dc28a2467184d2b8ad02a8b401e0897": {
     "model_module": "@jupyter-widgets/base",
     "model_module_version": "1.2.0",
     "model_name": "LayoutModel",
     "state": {
      "_model_module": "@jupyter-widgets/base",
      "_model_module_version": "1.2.0",
      "_model_name": "LayoutModel",
      "_view_count": null,
      "_view_module": "@jupyter-widgets/base",
      "_view_module_version": "1.2.0",
      "_view_name": "LayoutView",
      "align_content": null,
      "align_items": null,
      "align_self": null,
      "border": null,
      "bottom": null,
      "display": null,
      "flex": null,
      "flex_flow": null,
      "grid_area": null,
      "grid_auto_columns": null,
      "grid_auto_flow": null,
      "grid_auto_rows": null,
      "grid_column": null,
      "grid_gap": null,
      "grid_row": null,
      "grid_template_areas": null,
      "grid_template_columns": null,
      "grid_template_rows": null,
      "height": null,
      "justify_content": null,
      "justify_items": null,
      "left": null,
      "margin": null,
      "max_height": null,
      "max_width": null,
      "min_height": null,
      "min_width": null,
      "object_fit": null,
      "object_position": null,
      "order": null,
      "overflow": null,
      "overflow_x": null,
      "overflow_y": null,
      "padding": null,
      "right": null,
      "top": null,
      "visibility": null,
      "width": null
     }
    },
    "8fb04b2cc21a45b2a6d642eebe3db2b3": {
     "model_module": "@jupyter-widgets/controls",
     "model_module_version": "1.5.0",
     "model_name": "DescriptionStyleModel",
     "state": {
      "_model_module": "@jupyter-widgets/controls",
      "_model_module_version": "1.5.0",
      "_model_name": "DescriptionStyleModel",
      "_view_count": null,
      "_view_module": "@jupyter-widgets/base",
      "_view_module_version": "1.2.0",
      "_view_name": "StyleView",
      "description_width": ""
     }
    },
    "996d447862374cdc9d6d3d8eeeb1edd0": {
     "model_module": "@jupyter-widgets/controls",
     "model_module_version": "1.5.0",
     "model_name": "HTMLModel",
     "state": {
      "_dom_classes": [],
      "_model_module": "@jupyter-widgets/controls",
      "_model_module_version": "1.5.0",
      "_model_name": "HTMLModel",
      "_view_count": null,
      "_view_module": "@jupyter-widgets/controls",
      "_view_module_version": "1.5.0",
      "_view_name": "HTMLView",
      "description": "",
      "description_tooltip": null,
      "layout": "IPY_MODEL_e1c7204128e54eb1b18658b37237cd85",
      "placeholder": "​",
      "style": "IPY_MODEL_2220d6de891a423d9b7bc47276df6329",
      "value": " 10/10 [02:25&lt;00:00, 13.74s/it]"
     }
    },
    "998cbeae5b7e4d60a8def7dea2a41674": {
     "model_module": "@jupyter-widgets/controls",
     "model_module_version": "1.5.0",
     "model_name": "HBoxModel",
     "state": {
      "_dom_classes": [],
      "_model_module": "@jupyter-widgets/controls",
      "_model_module_version": "1.5.0",
      "_model_name": "HBoxModel",
      "_view_count": null,
      "_view_module": "@jupyter-widgets/controls",
      "_view_module_version": "1.5.0",
      "_view_name": "HBoxView",
      "box_style": "",
      "children": [
       "IPY_MODEL_f2e8171607fc4c109c0e19a47a03abcf",
       "IPY_MODEL_473b28a5d84e4a4894b415a87fa3fd16",
       "IPY_MODEL_996d447862374cdc9d6d3d8eeeb1edd0"
      ],
      "layout": "IPY_MODEL_4dc28a2467184d2b8ad02a8b401e0897"
     }
    },
    "b7f2f7fe129b4a449a791d5f77ec35a8": {
     "model_module": "@jupyter-widgets/base",
     "model_module_version": "1.2.0",
     "model_name": "LayoutModel",
     "state": {
      "_model_module": "@jupyter-widgets/base",
      "_model_module_version": "1.2.0",
      "_model_name": "LayoutModel",
      "_view_count": null,
      "_view_module": "@jupyter-widgets/base",
      "_view_module_version": "1.2.0",
      "_view_name": "LayoutView",
      "align_content": null,
      "align_items": null,
      "align_self": null,
      "border": null,
      "bottom": null,
      "display": null,
      "flex": null,
      "flex_flow": null,
      "grid_area": null,
      "grid_auto_columns": null,
      "grid_auto_flow": null,
      "grid_auto_rows": null,
      "grid_column": null,
      "grid_gap": null,
      "grid_row": null,
      "grid_template_areas": null,
      "grid_template_columns": null,
      "grid_template_rows": null,
      "height": null,
      "justify_content": null,
      "justify_items": null,
      "left": null,
      "margin": null,
      "max_height": null,
      "max_width": null,
      "min_height": null,
      "min_width": null,
      "object_fit": null,
      "object_position": null,
      "order": null,
      "overflow": null,
      "overflow_x": null,
      "overflow_y": null,
      "padding": null,
      "right": null,
      "top": null,
      "visibility": null,
      "width": null
     }
    },
    "dd0ab5f75c584973b9208078342e7839": {
     "model_module": "@jupyter-widgets/controls",
     "model_module_version": "1.5.0",
     "model_name": "ProgressStyleModel",
     "state": {
      "_model_module": "@jupyter-widgets/controls",
      "_model_module_version": "1.5.0",
      "_model_name": "ProgressStyleModel",
      "_view_count": null,
      "_view_module": "@jupyter-widgets/base",
      "_view_module_version": "1.2.0",
      "_view_name": "StyleView",
      "bar_color": null,
      "description_width": ""
     }
    },
    "e1c7204128e54eb1b18658b37237cd85": {
     "model_module": "@jupyter-widgets/base",
     "model_module_version": "1.2.0",
     "model_name": "LayoutModel",
     "state": {
      "_model_module": "@jupyter-widgets/base",
      "_model_module_version": "1.2.0",
      "_model_name": "LayoutModel",
      "_view_count": null,
      "_view_module": "@jupyter-widgets/base",
      "_view_module_version": "1.2.0",
      "_view_name": "LayoutView",
      "align_content": null,
      "align_items": null,
      "align_self": null,
      "border": null,
      "bottom": null,
      "display": null,
      "flex": null,
      "flex_flow": null,
      "grid_area": null,
      "grid_auto_columns": null,
      "grid_auto_flow": null,
      "grid_auto_rows": null,
      "grid_column": null,
      "grid_gap": null,
      "grid_row": null,
      "grid_template_areas": null,
      "grid_template_columns": null,
      "grid_template_rows": null,
      "height": null,
      "justify_content": null,
      "justify_items": null,
      "left": null,
      "margin": null,
      "max_height": null,
      "max_width": null,
      "min_height": null,
      "min_width": null,
      "object_fit": null,
      "object_position": null,
      "order": null,
      "overflow": null,
      "overflow_x": null,
      "overflow_y": null,
      "padding": null,
      "right": null,
      "top": null,
      "visibility": null,
      "width": null
     }
    },
    "e28c8efb9cad484e8c8eb6e3427af80a": {
     "model_module": "@jupyter-widgets/base",
     "model_module_version": "1.2.0",
     "model_name": "LayoutModel",
     "state": {
      "_model_module": "@jupyter-widgets/base",
      "_model_module_version": "1.2.0",
      "_model_name": "LayoutModel",
      "_view_count": null,
      "_view_module": "@jupyter-widgets/base",
      "_view_module_version": "1.2.0",
      "_view_name": "LayoutView",
      "align_content": null,
      "align_items": null,
      "align_self": null,
      "border": null,
      "bottom": null,
      "display": null,
      "flex": null,
      "flex_flow": null,
      "grid_area": null,
      "grid_auto_columns": null,
      "grid_auto_flow": null,
      "grid_auto_rows": null,
      "grid_column": null,
      "grid_gap": null,
      "grid_row": null,
      "grid_template_areas": null,
      "grid_template_columns": null,
      "grid_template_rows": null,
      "height": null,
      "justify_content": null,
      "justify_items": null,
      "left": null,
      "margin": null,
      "max_height": null,
      "max_width": null,
      "min_height": null,
      "min_width": null,
      "object_fit": null,
      "object_position": null,
      "order": null,
      "overflow": null,
      "overflow_x": null,
      "overflow_y": null,
      "padding": null,
      "right": null,
      "top": null,
      "visibility": null,
      "width": null
     }
    },
    "f2e8171607fc4c109c0e19a47a03abcf": {
     "model_module": "@jupyter-widgets/controls",
     "model_module_version": "1.5.0",
     "model_name": "HTMLModel",
     "state": {
      "_dom_classes": [],
      "_model_module": "@jupyter-widgets/controls",
      "_model_module_version": "1.5.0",
      "_model_name": "HTMLModel",
      "_view_count": null,
      "_view_module": "@jupyter-widgets/controls",
      "_view_module_version": "1.5.0",
      "_view_name": "HTMLView",
      "description": "",
      "description_tooltip": null,
      "layout": "IPY_MODEL_e28c8efb9cad484e8c8eb6e3427af80a",
      "placeholder": "​",
      "style": "IPY_MODEL_8fb04b2cc21a45b2a6d642eebe3db2b3",
      "value": "100%"
     }
    }
   }
  }
 },
 "nbformat": 4,
 "nbformat_minor": 1
}
