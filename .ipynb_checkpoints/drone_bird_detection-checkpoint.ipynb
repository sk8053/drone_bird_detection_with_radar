{
 "cells": [
  {
   "cell_type": "code",
   "execution_count": 1,
   "metadata": {
    "id": "ACQJnzfv0qrR"
   },
   "outputs": [],
   "source": [
    "import torch \n",
    "import torchvision\n",
    "import torch.nn as nn \n",
    "from IPython.display import Image \n",
    "from torchvision import transforms\n",
    "import matplotlib.pyplot as plt\n",
    "import random\n",
    "from torch.utils.data import Dataset, DataLoader\n",
    "from tqdm.auto import tqdm\n",
    "device = torch.device(\"cuda\" if torch.cuda.is_available() else \"cpu\")\n",
    "seed = 12345\n",
    "random.seed(seed)\n",
    "torch.manual_seed(seed)\n",
    "import numpy as np\n",
    "import pickle\n",
    "from matplotlib.animation import FuncAnimation\n",
    "from IPython.display import HTML"
   ]
  },
  {
   "cell_type": "code",
   "execution_count": 2,
   "metadata": {
    "colab": {
     "base_uri": "https://localhost:8080/"
    },
    "executionInfo": {
     "elapsed": 19195,
     "status": "ok",
     "timestamp": 1670297072901,
     "user": {
      "displayName": "Seongjoon Kang",
      "userId": "11489979719672849160"
     },
     "user_tz": 300
    },
    "id": "lYXjL7Lw0u0b",
    "outputId": "d81d0eb5-f147-4374-fd5e-4970d39d5046"
   },
   "outputs": [
    {
     "name": "stdout",
     "output_type": "stream",
     "text": [
      "cuda\n"
     ]
    }
   ],
   "source": [
    "print (device)\n",
    "#from google.colab import drive\n",
    "#drive.mount('/content/drive')"
   ]
  },
  {
   "cell_type": "code",
   "execution_count": null,
   "metadata": {
    "colab": {
     "base_uri": "https://localhost:8080/"
    },
    "executionInfo": {
     "elapsed": 4683,
     "status": "ok",
     "timestamp": 1670297079326,
     "user": {
      "displayName": "Seongjoon Kang",
      "userId": "11489979719672849160"
     },
     "user_tz": 300
    },
    "id": "b4S8wJ2UXbZm",
    "outputId": "e6c9f9e2-c8de-4944-c89f-1b55e0758da8"
   },
   "outputs": [
    {
     "name": "stdout",
     "output_type": "stream",
     "text": [
      "bird_anim.mp4                 conv_lstm_drone_bird.ipynb  mavik_data_total.pkl\n",
      "bird_data_total.pkl           drone_bird_detection.ipynb\n",
      "collect_mavik_bird_images.py  mavik_anim.mp4\n"
     ]
    }
   ],
   "source": [
    "ls drive/MyDrive/________60GHz_radar_measurements_SHARED/2021-05-19_Drone_vs_bird_detection_indoor/Radar_measurements_60GHz_Mavic+P3P+bird/bird_drone_classification_work/"
   ]
  },
  {
   "cell_type": "code",
   "execution_count": null,
   "metadata": {
    "colab": {
     "base_uri": "https://localhost:8080/"
    },
    "executionInfo": {
     "elapsed": 8815,
     "status": "ok",
     "timestamp": 1670297090343,
     "user": {
      "displayName": "Seongjoon Kang",
      "userId": "11489979719672849160"
     },
     "user_tz": 300
    },
    "id": "ccZGscn00z1X",
    "outputId": "068850a3-4e98-4b1c-fad8-8cfd2fe92c6d"
   },
   "outputs": [
    {
     "name": "stdout",
     "output_type": "stream",
     "text": [
      "(38000, 1, 20, 30) (46000, 1, 20, 30)\n"
     ]
    }
   ],
   "source": [
    "#path = '/content/drive/MyDrive/radar'\n",
    "path = 'drive/MyDrive/________60GHz_radar_measurements_SHARED/2021-05-19_Drone_vs_bird_detection_indoor/Radar_measurements_60GHz_Mavic+P3P+bird/bird_drone_classification_work/' #JDVG\n",
    "with open(path +'/'+'bird_data_total.pkl', 'rb') as f:\n",
    "  bird_data_total = pickle.load(f)[:,None]\n",
    "with open(path +'/'+'mavik_data_total.pkl', 'rb') as f:\n",
    "  mavik_data_total = pickle.load(f)[:,None]\n",
    "\n",
    "print (bird_data_total.shape, mavik_data_total.shape)\n",
    "\n",
    "bird_data_total = np.abs(bird_data_total)\n",
    "mavik_data_total = np.abs(mavik_data_total)"
   ]
  },
  {
   "cell_type": "code",
   "execution_count": null,
   "metadata": {
    "id": "aazqv8Hj6QSj"
   },
   "outputs": [],
   "source": [
    "# set the range of data as [0,1]\n",
    "mavik_data_total /= np.max(mavik_data_total)\n",
    "bird_data_total /= np.max(bird_data_total)\n",
    "# create the labels of mavik (1) and bird (0)\n",
    "mavik_lavel = np.repeat([1], len(mavik_data_total))\n",
    "bird_label = np.repeat([0], len(bird_data_total))\n",
    "\n",
    "total_data = np.vstack((bird_data_total, mavik_data_total))\n",
    "# let's permute bird and drone data\n",
    "I = np.random.permutation(np.arange(len(total_data)))\n",
    "total_data = total_data[I]\n",
    "total_label = np.append(bird_label, mavik_lavel)\n",
    "total_label = total_label[I]"
   ]
  },
  {
   "cell_type": "code",
   "execution_count": null,
   "metadata": {
    "colab": {
     "base_uri": "https://localhost:8080/",
     "height": 182
    },
    "executionInfo": {
     "elapsed": 419,
     "status": "ok",
     "timestamp": 1670297176919,
     "user": {
      "displayName": "Seongjoon Kang",
      "userId": "11489979719672849160"
     },
     "user_tz": 300
    },
    "id": "-z3-5vjw1kat",
    "outputId": "1c740bb0-6d39-498d-de51-e4604b72ea93"
   },
   "outputs": [
    {
     "data": {
      "text/plain": [
       "Text(0.5, 1.0, 'drone')"
      ]
     },
     "execution_count": 10,
     "metadata": {},
     "output_type": "execute_result"
    },
    {
     "data": {
      "image/png": "[encoded data removed]",
      "text/plain": [
       "<Figure size 432x288 with 2 Axes>"
      ]
     },
     "metadata": {
      "needs_background": "light"
     },
     "output_type": "display_data"
    }
   ],
   "source": [
    "fig, (ax1, ax2) = plt.subplots(1,2)\n",
    "ax1.imshow(np.squeeze(bird_data_total[1]))\n",
    "ax1.set_title('bird')\n",
    "ax2.imshow(np.squeeze(mavik_data_total[2]))\n",
    "ax2.set_title('drone')"
   ]
  },
  {
   "cell_type": "code",
   "execution_count": null,
   "metadata": {
    "id": "59XLZXlH4UOe"
   },
   "outputs": [],
   "source": [
    "class MyDataSet(Dataset):\n",
    "  def __init__(self, image, target):\n",
    "    self.image = image\n",
    "    self.target = target\n",
    "  def __len__(self):\n",
    "    return len(self.target)\n",
    "  def __getitem__(self, idx):\n",
    "    return self.image[idx], self.target[idx]"
   ]
  },
  {
   "cell_type": "code",
   "execution_count": null,
   "metadata": {
    "colab": {
     "base_uri": "https://localhost:8080/"
    },
    "executionInfo": {
     "elapsed": 162,
     "status": "ok",
     "timestamp": 1670297180007,
     "user": {
      "displayName": "Seongjoon Kang",
      "userId": "11489979719672849160"
     },
     "user_tz": 300
    },
    "id": "KDn07rmb9Ge8",
    "outputId": "21ff5fac-b1cd-43fb-abc4-d5783ff1bbb8"
   },
   "outputs": [
    {
     "name": "stdout",
     "output_type": "stream",
     "text": [
      "torch.Size([33600, 1, 20, 30]) (33600,)\n"
     ]
    }
   ],
   "source": [
    "total_data = torch.tensor(total_data, dtype=torch.float32)\n",
    "batch_size = 64\n",
    "train_size = int(0.4*len(total_data))\n",
    "\n",
    "train_data_set = MyDataSet(image = total_data[:train_size], target= total_label[:train_size])\n",
    "test_data_set = MyDataSet(image = total_data[train_size:], target= total_label[train_size:])\n",
    "\n",
    "train_data_loader = DataLoader(train_data_set, batch_size=batch_size, shuffle=True,drop_last=False )\n",
    "test_data_loader = DataLoader(test_data_set, batch_size=batch_size, shuffle=True,drop_last=False )\n",
    "\n",
    "print(train_data_set.image.shape, train_data_set.target.shape)"
   ]
  },
  {
   "cell_type": "code",
   "execution_count": null,
   "metadata": {
    "id": "H8YygdvnuqDM"
   },
   "outputs": [],
   "source": [
    "class ShallowConvnet(nn.Module):\n",
    "    def __init__(self, input_channels, num_classes):\n",
    "        \"\"\"\n",
    "\n",
    "        Parameters\n",
    "        ----------\n",
    "        input_channels : Number of input channels\n",
    "        num_classes : Number of classes for the final prediction \n",
    "        \"\"\"\n",
    "        super().__init__()\n",
    "        self.shallownet = nn.Sequential(\n",
    "        nn.Conv2d(in_channels = input_channels, out_channels = 16, kernel_size=3, padding=1),\n",
    "        nn.ReLU(),\n",
    "        nn.BatchNorm2d(16),\n",
    "        \n",
    "        nn.Conv2d(in_channels = 16, out_channels = 32, kernel_size=3, padding=1),\n",
    "        nn.ReLU(),\n",
    "        nn.BatchNorm2d(32),\n",
    "        \n",
    "        nn.Conv2d(in_channels = 32, out_channels = 32, kernel_size=2, padding=1,stride = 2),\n",
    "        nn.ReLU(),\n",
    "        nn.BatchNorm2d(32),\n",
    "\n",
    "        nn.Flatten(),\n",
    "        nn.Linear(11*16*32, num_classes),\n",
    "\n",
    "        )\n",
    "\n",
    "\n",
    "    def forward(self, x):\n",
    "        \"\"\"\n",
    "\n",
    "        Parameters\n",
    "        ----------\n",
    "        x\n",
    "\n",
    "        Returns\n",
    "        -------\n",
    "        output : Result after running through the model\n",
    "        \"\"\"\n",
    "\n",
    "        output = self.shallownet(x)\n",
    "\n",
    "        return output"
   ]
  },
  {
   "cell_type": "code",
   "execution_count": null,
   "metadata": {
    "id": "GnmWg9P9N5U_"
   },
   "outputs": [],
   "source": [
    "max_patience = 10\n",
    "def train_loop(model, criterion, optimizer,  train_loader, val_loader, n_epoch=50):\n",
    "    \"\"\"\n",
    "    Generic training loop\n",
    "\n",
    "    Parameters\n",
    "    ----------\n",
    "    model : Object instance of your model class \n",
    "    criterion : Loss function \n",
    "    optimizer : Instance of optimizer class of your choice \n",
    "    train_loader : Training data loader \n",
    "    val_loader : Validation data loader\n",
    "\n",
    "    Returns\n",
    "    -------\n",
    "    train_losses : List with train loss on dataset per epoch\n",
    "    train_accuracies : List with train accuracy on dataset per epoch\n",
    "    val_losses : List with validation loss on dataset per epoch\n",
    "    val_accuracies : List with validation accuracy on dataset per epoch\n",
    "\n",
    "    \"\"\"\n",
    "    best_val = 0.0\n",
    "    train_losses = []\n",
    "    val_losses = []\n",
    "    train_accuracies = []\n",
    "    val_accuracies = []\n",
    "\n",
    "    # Training\n",
    "    for t in tqdm(range(n_epoch)):\n",
    "      epoch_t_acc = 0.0 \n",
    "      epoch_t_loss = 0.0\n",
    "      # Set the model to train mode\n",
    "      #model.to(device)       \n",
    "      model.train()\n",
    "      # Loop over the training set\n",
    "      for train_data, targets in train_loader:\n",
    "        # Put the inputs and targets on the write device\n",
    "        train_data = train_data.to(device)\n",
    "        targets = targets.to (device)\n",
    "        # Feed forward to get the logits\n",
    "        y_pred = model.forward(train_data)\n",
    "       \n",
    "        score, predicted = torch.max(y_pred, 1)\n",
    "        \n",
    "        # Compute the loss and accuracy\n",
    "        loss = criterion ( y_pred,targets) \n",
    "        # zero the gradients before running\n",
    "        # the backward pass.\n",
    "        optimizer.zero_grad()\n",
    "        # Backward pass to compute the gradient\n",
    "        # of loss w.r.t our learnable params. \n",
    "        loss.backward()\n",
    "        optimizer.step()\n",
    "  \n",
    "        train_accuracy = (targets == predicted).sum().float() / len(targets)\n",
    "\n",
    "        epoch_t_acc += train_accuracy\n",
    "        epoch_t_loss += loss.item()\n",
    "\n",
    "      train_losses.append(epoch_t_loss/len(train_loader))\n",
    "      train_accuracies.append(epoch_t_acc/len(train_loader))\n",
    "\n",
    "        # Switch the model to eval mode\n",
    "      model.eval()\n",
    "\n",
    "      v_acc = 0\n",
    "      v_loss = 0  \n",
    "      with torch.no_grad():\n",
    "          # TLoop over the validation set \n",
    "          for val_data, targets in val_loader:\n",
    "              # Put the inputs and targets on the write device\n",
    "              val_data = val_data.to(device)\n",
    "              targets = targets.to(device)\n",
    "              # Feed forward to get the logits\n",
    "              y_pred_val = model (val_data)\n",
    "              score, predicted = torch.max(y_pred_val, 1)\n",
    "              # Compute the loss and accuracy\n",
    "              loss_val = criterion ( y_pred_val,targets)\n",
    "              accuracy_val = (targets == predicted).sum().float() / len(targets)\n",
    "              # Keep track of accuracy and loss\n",
    "              v_acc += accuracy_val\n",
    "              v_loss += loss_val\n",
    "\n",
    "      val_losses.append(v_loss/len(val_loader))\n",
    "      val_accuracies.append(v_acc/len(val_loader))\n",
    "\n",
    "      if val_accuracies[-1] > best_val:\n",
    "        best_val = val_accuracies[-1]\n",
    "        patience_counter = 0\n",
    "\n",
    "        # Save best model, optimizer, epoch_number\n",
    "        torch.save({\n",
    "                    'model': model.state_dict(),\n",
    "                    'optimizer': optimizer.state_dict(),\n",
    "                    'epoch': t,\n",
    "                }, '/content/drive/My Drive/Colab Notebooks/checkpoint.pth')\n",
    "      else:\n",
    "        patience_counter += 1    \n",
    "        if patience_counter > max_patience: \n",
    "          break\n",
    "      print(\"[EPOCH]: %i, [TRAIN LOSS]: %.6f, [TRAIN ACCURACY]: %.3f\" % (t, train_losses[-1], train_accuracies[-1]))\n",
    "      print(\"[EPOCH]: %i, [VAL LOSS]: %.6f, [VAL ACCURACY]: %.3f \\n\" % (t, val_losses[-1] ,val_accuracies[-1]))\n",
    "\n",
    "    return train_losses, train_accuracies, val_losses, val_accuracies"
   ]
  },
  {
   "cell_type": "code",
   "execution_count": null,
   "metadata": {
    "colab": {
     "base_uri": "https://localhost:8080/"
    },
    "executionInfo": {
     "elapsed": 162,
     "status": "ok",
     "timestamp": 1670297230311,
     "user": {
      "displayName": "Seongjoon Kang",
      "userId": "11489979719672849160"
     },
     "user_tz": 300
    },
    "id": "m82uRdRfGibz",
    "outputId": "84eb2783-7dbc-4dde-b2d0-8d33cf9e3ede"
   },
   "outputs": [
    {
     "name": "stdout",
     "output_type": "stream",
     "text": [
      "Num params:  20354\n"
     ]
    },
    {
     "data": {
      "text/plain": [
       "ShallowConvnet(\n",
       "  (shallownet): Sequential(\n",
       "    (0): Conv2d(1, 16, kernel_size=(3, 3), stride=(1, 1), padding=(1, 1))\n",
       "    (1): ReLU()\n",
       "    (2): BatchNorm2d(16, eps=1e-05, momentum=0.1, affine=True, track_running_stats=True)\n",
       "    (3): Conv2d(16, 32, kernel_size=(3, 3), stride=(1, 1), padding=(1, 1))\n",
       "    (4): ReLU()\n",
       "    (5): BatchNorm2d(32, eps=1e-05, momentum=0.1, affine=True, track_running_stats=True)\n",
       "    (6): Conv2d(32, 32, kernel_size=(2, 2), stride=(2, 2), padding=(1, 1))\n",
       "    (7): ReLU()\n",
       "    (8): BatchNorm2d(32, eps=1e-05, momentum=0.1, affine=True, track_running_stats=True)\n",
       "    (9): Flatten(start_dim=1, end_dim=-1)\n",
       "    (10): Linear(in_features=5632, out_features=2, bias=True)\n",
       "  )\n",
       ")"
      ]
     },
     "execution_count": 16,
     "metadata": {},
     "output_type": "execute_result"
    }
   ],
   "source": [
    "# TODO : Initialize the model and cast to correct device\n",
    "model = ShallowConvnet(input_channels=1, num_classes=2)\n",
    "print(\"Num params: \", sum(p.numel() for p in model.parameters()))\n",
    "model.to (device)"
   ]
  },
  {
   "cell_type": "code",
   "execution_count": null,
   "metadata": {
    "colab": {
     "base_uri": "https://localhost:8080/",
     "height": 622,
     "referenced_widgets": [
      "573805a0e3934145a7b5b8e8abe4f760",
      "a315796562d444a587f789f72cfe460e",
      "10d4e63efe4542ff9e4580bf6f7e7517",
      "ce6f9828c0204139a4be9d6a716f2e1d",
      "e3257d6e172b4fd88c5d116e7ac29af5",
      "7048dba22db04aaa8a4e64090f85e7a2",
      "9975f1e45baa4928924adfaaf1534b0f",
      "40a48e7cc2bd401188f3be820baa7bb1",
      "71c7971a25154a3d94a43708581a3ffc",
      "b8b44a2402c64faa9c85d5f1c931b9cf",
      "3b25387bf37249968dd769a7cc5b2719"
     ]
    },
    "executionInfo": {
     "elapsed": 42143,
     "status": "ok",
     "timestamp": 1670297283963,
     "user": {
      "displayName": "Seongjoon Kang",
      "userId": "11489979719672849160"
     },
     "user_tz": 300
    },
    "id": "bOPvmwJRAIMX",
    "outputId": "928e1a94-9c76-4db6-b902-ab0dbdd08982"
   },
   "outputs": [
    {
     "data": {
      "application/vnd.jupyter.widget-view+json": {
       "model_id": "573805a0e3934145a7b5b8e8abe4f760",
       "version_major": 2,
       "version_minor": 0
      },
      "text/plain": [
       "  0%|          | 0/15 [00:00<?, ?it/s]"
      ]
     },
     "metadata": {},
     "output_type": "display_data"
    },
    {
     "name": "stdout",
     "output_type": "stream",
     "text": [
      "[EPOCH]: 0, [TRAIN LOSS]: 0.005397, [TRAIN ACCURACY]: 0.998\n",
      "[EPOCH]: 0, [VAL LOSS]: 0.000034, [VAL ACCURACY]: 1.000 \n",
      "\n",
      "[EPOCH]: 1, [TRAIN LOSS]: 0.000024, [TRAIN ACCURACY]: 1.000\n",
      "[EPOCH]: 1, [VAL LOSS]: 0.000013, [VAL ACCURACY]: 1.000 \n",
      "\n",
      "[EPOCH]: 2, [TRAIN LOSS]: 0.000010, [TRAIN ACCURACY]: 1.000\n",
      "[EPOCH]: 2, [VAL LOSS]: 0.000006, [VAL ACCURACY]: 1.000 \n",
      "\n",
      "[EPOCH]: 3, [TRAIN LOSS]: 0.000005, [TRAIN ACCURACY]: 1.000\n",
      "[EPOCH]: 3, [VAL LOSS]: 0.000004, [VAL ACCURACY]: 1.000 \n",
      "\n",
      "[EPOCH]: 4, [TRAIN LOSS]: 0.000003, [TRAIN ACCURACY]: 1.000\n",
      "[EPOCH]: 4, [VAL LOSS]: 0.000002, [VAL ACCURACY]: 1.000 \n",
      "\n",
      "[EPOCH]: 5, [TRAIN LOSS]: 0.000002, [TRAIN ACCURACY]: 1.000\n",
      "[EPOCH]: 5, [VAL LOSS]: 0.000001, [VAL ACCURACY]: 1.000 \n",
      "\n",
      "[EPOCH]: 6, [TRAIN LOSS]: 0.000001, [TRAIN ACCURACY]: 1.000\n",
      "[EPOCH]: 6, [VAL LOSS]: 0.000001, [VAL ACCURACY]: 1.000 \n",
      "\n",
      "[EPOCH]: 7, [TRAIN LOSS]: 0.000001, [TRAIN ACCURACY]: 1.000\n",
      "[EPOCH]: 7, [VAL LOSS]: 0.000001, [VAL ACCURACY]: 1.000 \n",
      "\n",
      "[EPOCH]: 8, [TRAIN LOSS]: 0.000001, [TRAIN ACCURACY]: 1.000\n",
      "[EPOCH]: 8, [VAL LOSS]: 0.000001, [VAL ACCURACY]: 1.000 \n",
      "\n",
      "[EPOCH]: 9, [TRAIN LOSS]: 0.000001, [TRAIN ACCURACY]: 1.000\n",
      "[EPOCH]: 9, [VAL LOSS]: 0.000000, [VAL ACCURACY]: 1.000 \n",
      "\n",
      "[EPOCH]: 10, [TRAIN LOSS]: 0.000000, [TRAIN ACCURACY]: 1.000\n",
      "[EPOCH]: 10, [VAL LOSS]: 0.000000, [VAL ACCURACY]: 1.000 \n",
      "\n"
     ]
    }
   ],
   "source": [
    "# Initialize the criterion\n",
    "criterion = torch.nn.CrossEntropyLoss()\n",
    "# Initialize the SGD optimizer with lr 1e-3\n",
    "optimizer = torch.optim.Adam(model.parameters(), lr=1e-3)\n",
    "# Run the training loop using this model\n",
    "train_losses, train_accuracies, val_losses, val_acc = train_loop(model, criterion, optimizer,  train_data_loader, test_data_loader,15)"
   ]
  },
  {
   "cell_type": "code",
   "execution_count": null,
   "metadata": {
    "colab": {
     "base_uri": "https://localhost:8080/",
     "height": 265
    },
    "id": "nAoY7gbyPbFD",
    "outputId": "73cd6761-1d11-415e-ee89-203efd5735af"
   },
   "outputs": [
    {
     "data": {
      "image/png": "[encoded data removed]",
      "text/plain": [
       "<Figure size 432x288 with 1 Axes>"
      ]
     },
     "metadata": {},
     "output_type": "display_data"
    }
   ],
   "source": [
    "fig = plt.figure()\n",
    "ax = plt.axes()\n",
    "line, = ax.plot([], [], lw=2)\n",
    "fps = 30\n",
    "nSeconds = 10\n",
    "# initialization function: plot the background of each frame\n",
    "# animation function.  This is called sequentially\n",
    "im = plt.imshow(np.abs(np.squeeze(bird_data_total[0])))\n",
    "def init():\n",
    "  line.set_data([],[])\n",
    "  return(line,)\n",
    "def animate(i):\n",
    "    #ax.cla()  \n",
    "    im.set_array(np.abs(np.squeeze(bird_data_total[i])))\n",
    "    return [im]\n",
    "    \n",
    "# call the animator.  blit=True means only re-draw the parts that have changed.\n",
    "anim = FuncAnimation(fig, animate,\n",
    "                               frames= np.arange(36000,step = 120), interval = 1000/fps) #, repeat = False, blit = True)\n",
    "\n",
    "anim.save('bird_anim.mp4', fps=fps, extra_args=['-vcodec', 'libx264'])\n",
    "#HTML(anim.to_jshtml())"
   ]
  }
 ],
 "metadata": {
  "accelerator": "GPU",
  "colab": {
   "provenance": []
  },
  "kernelspec": {
   "display_name": "Python 3 (ipykernel)",
   "language": "python",
   "name": "python3"
  },
  "language_info": {
   "codemirror_mode": {
    "name": "ipython",
    "version": 3
   },
   "file_extension": ".py",
   "mimetype": "text/x-python",
   "name": "python",
   "nbconvert_exporter": "python",
   "pygments_lexer": "ipython3",
   "version": "3.9.7"
  },
  "widgets": {
   "application/vnd.jupyter.widget-state+json": {
    "10d4e63efe4542ff9e4580bf6f7e7517": {
     "model_module": "@jupyter-widgets/controls",
     "model_module_version": "1.5.0",
     "model_name": "FloatProgressModel",
     "state": {
      "_dom_classes": [],
      "_model_module": "@jupyter-widgets/controls",
      "_model_module_version": "1.5.0",
      "_model_name": "FloatProgressModel",
      "_view_count": null,
      "_view_module": "@jupyter-widgets/controls",
      "_view_module_version": "1.5.0",
      "_view_name": "ProgressView",
      "bar_style": "danger",
      "description": "",
      "description_tooltip": null,
      "layout": "IPY_MODEL_40a48e7cc2bd401188f3be820baa7bb1",
      "max": 15,
      "min": 0,
      "orientation": "horizontal",
      "style": "IPY_MODEL_71c7971a25154a3d94a43708581a3ffc",
      "value": 11
     }
    },
    "3b25387bf37249968dd769a7cc5b2719": {
     "model_module": "@jupyter-widgets/controls",
     "model_module_version": "1.5.0",
     "model_name": "DescriptionStyleModel",
     "state": {
      "_model_module": "@jupyter-widgets/controls",
      "_model_module_version": "1.5.0",
      "_model_name": "DescriptionStyleModel",
      "_view_count": null,
      "_view_module": "@jupyter-widgets/base",
      "_view_module_version": "1.2.0",
      "_view_name": "StyleView",
      "description_width": ""
     }
    },
    "40a48e7cc2bd401188f3be820baa7bb1": {
     "model_module": "@jupyter-widgets/base",
     "model_module_version": "1.2.0",
     "model_name": "LayoutModel",
     "state": {
      "_model_module": "@jupyter-widgets/base",
      "_model_module_version": "1.2.0",
      "_model_name": "LayoutModel",
      "_view_count": null,
      "_view_module": "@jupyter-widgets/base",
      "_view_module_version": "1.2.0",
      "_view_name": "LayoutView",
      "align_content": null,
      "align_items": null,
      "align_self": null,
      "border": null,
      "bottom": null,
      "display": null,
      "flex": null,
      "flex_flow": null,
      "grid_area": null,
      "grid_auto_columns": null,
      "grid_auto_flow": null,
      "grid_auto_rows": null,
      "grid_column": null,
      "grid_gap": null,
      "grid_row": null,
      "grid_template_areas": null,
      "grid_template_columns": null,
      "grid_template_rows": null,
      "height": null,
      "justify_content": null,
      "justify_items": null,
      "left": null,
      "margin": null,
      "max_height": null,
      "max_width": null,
      "min_height": null,
      "min_width": null,
      "object_fit": null,
      "object_position": null,
      "order": null,
      "overflow": null,
      "overflow_x": null,
      "overflow_y": null,
      "padding": null,
      "right": null,
      "top": null,
      "visibility": null,
      "width": null
     }
    },
    "573805a0e3934145a7b5b8e8abe4f760": {
     "model_module": "@jupyter-widgets/controls",
     "model_module_version": "1.5.0",
     "model_name": "HBoxModel",
     "state": {
      "_dom_classes": [],
      "_model_module": "@jupyter-widgets/controls",
      "_model_module_version": "1.5.0",
      "_model_name": "HBoxModel",
      "_view_count": null,
      "_view_module": "@jupyter-widgets/controls",
      "_view_module_version": "1.5.0",
      "_view_name": "HBoxView",
      "box_style": "",
      "children": [
       "IPY_MODEL_a315796562d444a587f789f72cfe460e",
       "IPY_MODEL_10d4e63efe4542ff9e4580bf6f7e7517",
       "IPY_MODEL_ce6f9828c0204139a4be9d6a716f2e1d"
      ],
      "layout": "IPY_MODEL_e3257d6e172b4fd88c5d116e7ac29af5"
     }
    },
    "7048dba22db04aaa8a4e64090f85e7a2": {
     "model_module": "@jupyter-widgets/base",
     "model_module_version": "1.2.0",
     "model_name": "LayoutModel",
     "state": {
      "_model_module": "@jupyter-widgets/base",
      "_model_module_version": "1.2.0",
      "_model_name": "LayoutModel",
      "_view_count": null,
      "_view_module": "@jupyter-widgets/base",
      "_view_module_version": "1.2.0",
      "_view_name": "LayoutView",
      "align_content": null,
      "align_items": null,
      "align_self": null,
      "border": null,
      "bottom": null,
      "display": null,
      "flex": null,
      "flex_flow": null,
      "grid_area": null,
      "grid_auto_columns": null,
      "grid_auto_flow": null,
      "grid_auto_rows": null,
      "grid_column": null,
      "grid_gap": null,
      "grid_row": null,
      "grid_template_areas": null,
      "grid_template_columns": null,
      "grid_template_rows": null,
      "height": null,
      "justify_content": null,
      "justify_items": null,
      "left": null,
      "margin": null,
      "max_height": null,
      "max_width": null,
      "min_height": null,
      "min_width": null,
      "object_fit": null,
      "object_position": null,
      "order": null,
      "overflow": null,
      "overflow_x": null,
      "overflow_y": null,
      "padding": null,
      "right": null,
      "top": null,
      "visibility": null,
      "width": null
     }
    },
    "71c7971a25154a3d94a43708581a3ffc": {
     "model_module": "@jupyter-widgets/controls",
     "model_module_version": "1.5.0",
     "model_name": "ProgressStyleModel",
     "state": {
      "_model_module": "@jupyter-widgets/controls",
      "_model_module_version": "1.5.0",
      "_model_name": "ProgressStyleModel",
      "_view_count": null,
      "_view_module": "@jupyter-widgets/base",
      "_view_module_version": "1.2.0",
      "_view_name": "StyleView",
      "bar_color": null,
      "description_width": ""
     }
    },
    "9975f1e45baa4928924adfaaf1534b0f": {
     "model_module": "@jupyter-widgets/controls",
     "model_module_version": "1.5.0",
     "model_name": "DescriptionStyleModel",
     "state": {
      "_model_module": "@jupyter-widgets/controls",
      "_model_module_version": "1.5.0",
      "_model_name": "DescriptionStyleModel",
      "_view_count": null,
      "_view_module": "@jupyter-widgets/base",
      "_view_module_version": "1.2.0",
      "_view_name": "StyleView",
      "description_width": ""
     }
    },
    "a315796562d444a587f789f72cfe460e": {
     "model_module": "@jupyter-widgets/controls",
     "model_module_version": "1.5.0",
     "model_name": "HTMLModel",
     "state": {
      "_dom_classes": [],
      "_model_module": "@jupyter-widgets/controls",
      "_model_module_version": "1.5.0",
      "_model_name": "HTMLModel",
      "_view_count": null,
      "_view_module": "@jupyter-widgets/controls",
      "_view_module_version": "1.5.0",
      "_view_name": "HTMLView",
      "description": "",
      "description_tooltip": null,
      "layout": "IPY_MODEL_7048dba22db04aaa8a4e64090f85e7a2",
      "placeholder": "​",
      "style": "IPY_MODEL_9975f1e45baa4928924adfaaf1534b0f",
      "value": " 73%"
     }
    },
    "b8b44a2402c64faa9c85d5f1c931b9cf": {
     "model_module": "@jupyter-widgets/base",
     "model_module_version": "1.2.0",
     "model_name": "LayoutModel",
     "state": {
      "_model_module": "@jupyter-widgets/base",
      "_model_module_version": "1.2.0",
      "_model_name": "LayoutModel",
      "_view_count": null,
      "_view_module": "@jupyter-widgets/base",
      "_view_module_version": "1.2.0",
      "_view_name": "LayoutView",
      "align_content": null,
      "align_items": null,
      "align_self": null,
      "border": null,
      "bottom": null,
      "display": null,
      "flex": null,
      "flex_flow": null,
      "grid_area": null,
      "grid_auto_columns": null,
      "grid_auto_flow": null,
      "grid_auto_rows": null,
      "grid_column": null,
      "grid_gap": null,
      "grid_row": null,
      "grid_template_areas": null,
      "grid_template_columns": null,
      "grid_template_rows": null,
      "height": null,
      "justify_content": null,
      "justify_items": null,
      "left": null,
      "margin": null,
      "max_height": null,
      "max_width": null,
      "min_height": null,
      "min_width": null,
      "object_fit": null,
      "object_position": null,
      "order": null,
      "overflow": null,
      "overflow_x": null,
      "overflow_y": null,
      "padding": null,
      "right": null,
      "top": null,
      "visibility": null,
      "width": null
     }
    },
    "ce6f9828c0204139a4be9d6a716f2e1d": {
     "model_module": "@jupyter-widgets/controls",
     "model_module_version": "1.5.0",
     "model_name": "HTMLModel",
     "state": {
      "_dom_classes": [],
      "_model_module": "@jupyter-widgets/controls",
      "_model_module_version": "1.5.0",
      "_model_name": "HTMLModel",
      "_view_count": null,
      "_view_module": "@jupyter-widgets/controls",
      "_view_module_version": "1.5.0",
      "_view_name": "HTMLView",
      "description": "",
      "description_tooltip": null,
      "layout": "IPY_MODEL_b8b44a2402c64faa9c85d5f1c931b9cf",
      "placeholder": "​",
      "style": "IPY_MODEL_3b25387bf37249968dd769a7cc5b2719",
      "value": " 11/15 [00:42&lt;00:11,  2.96s/it]"
     }
    },
    "e3257d6e172b4fd88c5d116e7ac29af5": {
     "model_module": "@jupyter-widgets/base",
     "model_module_version": "1.2.0",
     "model_name": "LayoutModel",
     "state": {
      "_model_module": "@jupyter-widgets/base",
      "_model_module_version": "1.2.0",
      "_model_name": "LayoutModel",
      "_view_count": null,
      "_view_module": "@jupyter-widgets/base",
      "_view_module_version": "1.2.0",
      "_view_name": "LayoutView",
      "align_content": null,
      "align_items": null,
      "align_self": null,
      "border": null,
      "bottom": null,
      "display": null,
      "flex": null,
      "flex_flow": null,
      "grid_area": null,
      "grid_auto_columns": null,
      "grid_auto_flow": null,
      "grid_auto_rows": null,
      "grid_column": null,
      "grid_gap": null,
      "grid_row": null,
      "grid_template_areas": null,
      "grid_template_columns": null,
      "grid_template_rows": null,
      "height": null,
      "justify_content": null,
      "justify_items": null,
      "left": null,
      "margin": null,
      "max_height": null,
      "max_width": null,
      "min_height": null,
      "min_width": null,
      "object_fit": null,
      "object_position": null,
      "order": null,
      "overflow": null,
      "overflow_x": null,
      "overflow_y": null,
      "padding": null,
      "right": null,
      "top": null,
      "visibility": null,
      "width": null
     }
    }
   }
  }
 },
 "nbformat": 4,
 "nbformat_minor": 1
}
